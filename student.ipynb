{
 "cells": [
  {
   "cell_type": "markdown",
   "metadata": {
    "toc": true
   },
   "source": [
    "<h1>Table of Contents<span class=\"tocSkip\"></span></h1>\n",
    "<div class=\"toc\"><ul class=\"toc-item\"><li><span><a href=\"#Hypothesis-setting\" data-toc-modified-id=\"Hypothesis-setting-1\"><span class=\"toc-item-num\">1&nbsp;&nbsp;</span>Hypothesis setting</a></span></li><li><span><a href=\"#Importing-libraries-and-data\" data-toc-modified-id=\"Importing-libraries-and-data-2\"><span class=\"toc-item-num\">2&nbsp;&nbsp;</span>Importing libraries and data</a></span><ul class=\"toc-item\"><li><span><a href=\"#Importing-modules-and-general-configuration\" data-toc-modified-id=\"Importing-modules-and-general-configuration-2.1\"><span class=\"toc-item-num\">2.1&nbsp;&nbsp;</span>Importing modules and general configuration</a></span></li><li><span><a href=\"#Loading-data-and-general-user's-functions\" data-toc-modified-id=\"Loading-data-and-general-user's-functions-2.2\"><span class=\"toc-item-num\">2.2&nbsp;&nbsp;</span>Loading data and general user's functions</a></span></li></ul></li><li><span><a href=\"#Hypothesis-1\" data-toc-modified-id=\"Hypothesis-1-3\"><span class=\"toc-item-num\">3&nbsp;&nbsp;</span>Hypothesis 1</a></span><ul class=\"toc-item\"><li><span><a href=\"#Import-data-to-dataframe\" data-toc-modified-id=\"Import-data-to-dataframe-3.1\"><span class=\"toc-item-num\">3.1&nbsp;&nbsp;</span>Import data to dataframe</a></span></li><li><span><a href=\"#Description-to-applied-methodology\" data-toc-modified-id=\"Description-to-applied-methodology-3.2\"><span class=\"toc-item-num\">3.2&nbsp;&nbsp;</span>Description to applied methodology</a></span></li><li><span><a href=\"#Visual-analysis-1.-KDE\" data-toc-modified-id=\"Visual-analysis-1.-KDE-3.3\"><span class=\"toc-item-num\">3.3&nbsp;&nbsp;</span>Visual analysis-1. KDE</a></span></li><li><span><a href=\"#Visual-analysis-2.-Grouped-means\" data-toc-modified-id=\"Visual-analysis-2.-Grouped-means-3.4\"><span class=\"toc-item-num\">3.4&nbsp;&nbsp;</span>Visual analysis-2. Grouped means</a></span></li><li><span><a href=\"#User's-function-for-Hypothesis-1\" data-toc-modified-id=\"User's-function-for-Hypothesis-1-3.5\"><span class=\"toc-item-num\">3.5&nbsp;&nbsp;</span>User's function for Hypothesis-1</a></span></li><li><span><a href=\"#Testing-Version-1\" data-toc-modified-id=\"Testing-Version-1-3.6\"><span class=\"toc-item-num\">3.6&nbsp;&nbsp;</span>Testing Version 1</a></span></li><li><span><a href=\"#Testing-Version-2\" data-toc-modified-id=\"Testing-Version-2-3.7\"><span class=\"toc-item-num\">3.7&nbsp;&nbsp;</span>Testing Version 2</a></span></li><li><span><a href=\"#Conclusions-of-testing\" data-toc-modified-id=\"Conclusions-of-testing-3.8\"><span class=\"toc-item-num\">3.8&nbsp;&nbsp;</span>Conclusions of testing</a></span></li></ul></li><li><span><a href=\"#Hypothesis-2\" data-toc-modified-id=\"Hypothesis-2-4\"><span class=\"toc-item-num\">4&nbsp;&nbsp;</span>Hypothesis 2</a></span><ul class=\"toc-item\"><li><span><a href=\"#Description-to-applied-methodology\" data-toc-modified-id=\"Description-to-applied-methodology-4.1\"><span class=\"toc-item-num\">4.1&nbsp;&nbsp;</span>Description to applied methodology</a></span></li><li><span><a href=\"#Visual-analysis\" data-toc-modified-id=\"Visual-analysis-4.2\"><span class=\"toc-item-num\">4.2&nbsp;&nbsp;</span>Visual analysis</a></span></li><li><span><a href=\"#Importing-data-to-dataframe\" data-toc-modified-id=\"Importing-data-to-dataframe-4.3\"><span class=\"toc-item-num\">4.3&nbsp;&nbsp;</span>Importing data to dataframe</a></span></li><li><span><a href=\"#Testing-hypothesis.-Version-1\" data-toc-modified-id=\"Testing-hypothesis.-Version-1-4.4\"><span class=\"toc-item-num\">4.4&nbsp;&nbsp;</span>Testing hypothesis. Version-1</a></span></li><li><span><a href=\"#Testing-hypothesis.-Version-2\" data-toc-modified-id=\"Testing-hypothesis.-Version-2-4.5\"><span class=\"toc-item-num\">4.5&nbsp;&nbsp;</span>Testing hypothesis. Version-2</a></span></li><li><span><a href=\"#Conclusions-of-testing\" data-toc-modified-id=\"Conclusions-of-testing-4.6\"><span class=\"toc-item-num\">4.6&nbsp;&nbsp;</span>Conclusions of testing</a></span></li></ul></li><li><span><a href=\"#Hypothesis-3\" data-toc-modified-id=\"Hypothesis-3-5\"><span class=\"toc-item-num\">5&nbsp;&nbsp;</span>Hypothesis 3</a></span><ul class=\"toc-item\"><li><span><a href=\"#Description-to-applied-methodology\" data-toc-modified-id=\"Description-to-applied-methodology-5.1\"><span class=\"toc-item-num\">5.1&nbsp;&nbsp;</span>Description to applied methodology</a></span></li><li><span><a href=\"#Importing-data-to-dataframe-and-changing-datatypes\" data-toc-modified-id=\"Importing-data-to-dataframe-and-changing-datatypes-5.2\"><span class=\"toc-item-num\">5.2&nbsp;&nbsp;</span>Importing data to dataframe and changing datatypes</a></span></li><li><span><a href=\"#User's-function-for-AB-testing\" data-toc-modified-id=\"User's-function-for-AB-testing-5.3\"><span class=\"toc-item-num\">5.3&nbsp;&nbsp;</span>User's function for AB-testing</a></span></li><li><span><a href=\"#Version-1.-Multiple-AB-testing\" data-toc-modified-id=\"Version-1.-Multiple-AB-testing-5.4\"><span class=\"toc-item-num\">5.4&nbsp;&nbsp;</span>Version 1. Multiple AB-testing</a></span></li><li><span><a href=\"#Version-2.-ANOVA-testing\" data-toc-modified-id=\"Version-2.-ANOVA-testing-5.5\"><span class=\"toc-item-num\">5.5&nbsp;&nbsp;</span>Version 2. ANOVA-testing</a></span></li><li><span><a href=\"#Conclusions-of-testing\" data-toc-modified-id=\"Conclusions-of-testing-5.6\"><span class=\"toc-item-num\">5.6&nbsp;&nbsp;</span>Conclusions of testing</a></span></li></ul></li><li><span><a href=\"#Hypothesis-4\" data-toc-modified-id=\"Hypothesis-4-6\"><span class=\"toc-item-num\">6&nbsp;&nbsp;</span>Hypothesis 4</a></span><ul class=\"toc-item\"><li><span><a href=\"#Description-to-applied-methodology\" data-toc-modified-id=\"Description-to-applied-methodology-6.1\"><span class=\"toc-item-num\">6.1&nbsp;&nbsp;</span>Description to applied methodology</a></span></li><li><span><a href=\"#Importing-data-to-dataframe\" data-toc-modified-id=\"Importing-data-to-dataframe-6.2\"><span class=\"toc-item-num\">6.2&nbsp;&nbsp;</span>Importing data to dataframe</a></span></li><li><span><a href=\"#Visual-analysis\" data-toc-modified-id=\"Visual-analysis-6.3\"><span class=\"toc-item-num\">6.3&nbsp;&nbsp;</span>Visual analysis</a></span></li><li><span><a href=\"#User's-function-for-AB-testing\" data-toc-modified-id=\"User's-function-for-AB-testing-6.4\"><span class=\"toc-item-num\">6.4&nbsp;&nbsp;</span>User's function for AB-testing</a></span></li><li><span><a href=\"#Version-1.-Single-AB-testing\" data-toc-modified-id=\"Version-1.-Single-AB-testing-6.5\"><span class=\"toc-item-num\">6.5&nbsp;&nbsp;</span>Version 1. Single AB-testing</a></span></li><li><span><a href=\"#Version-2.-ANOVA-testing\" data-toc-modified-id=\"Version-2.-ANOVA-testing-6.6\"><span class=\"toc-item-num\">6.6&nbsp;&nbsp;</span>Version 2. ANOVA testing</a></span></li><li><span><a href=\"#Conclusions-of-testing\" data-toc-modified-id=\"Conclusions-of-testing-6.7\"><span class=\"toc-item-num\">6.7&nbsp;&nbsp;</span>Conclusions of testing</a></span></li></ul></li><li><span><a href=\"#Hypothesis-5\" data-toc-modified-id=\"Hypothesis-5-7\"><span class=\"toc-item-num\">7&nbsp;&nbsp;</span>Hypothesis 5</a></span><ul class=\"toc-item\"><li><span><a href=\"#Importing-data-to-dataframe\" data-toc-modified-id=\"Importing-data-to-dataframe-7.1\"><span class=\"toc-item-num\">7.1&nbsp;&nbsp;</span>Importing data to dataframe</a></span></li><li><span><a href=\"#Visual-analysis\" data-toc-modified-id=\"Visual-analysis-7.2\"><span class=\"toc-item-num\">7.2&nbsp;&nbsp;</span>Visual analysis</a></span></li><li><span><a href=\"#ANOVA-testing\" data-toc-modified-id=\"ANOVA-testing-7.3\"><span class=\"toc-item-num\">7.3&nbsp;&nbsp;</span>ANOVA testing</a></span></li><li><span><a href=\"#Conclusions-of-testing\" data-toc-modified-id=\"Conclusions-of-testing-7.4\"><span class=\"toc-item-num\">7.4&nbsp;&nbsp;</span>Conclusions of testing</a></span></li></ul></li><li><span><a href=\"#Finding-predictors-for-Discount-level\" data-toc-modified-id=\"Finding-predictors-for-Discount-level-8\"><span class=\"toc-item-num\">8&nbsp;&nbsp;</span>Finding predictors for Discount level</a></span><ul class=\"toc-item\"><li><span><a href=\"#Conclusions-of-modelling\" data-toc-modified-id=\"Conclusions-of-modelling-8.1\"><span class=\"toc-item-num\">8.1&nbsp;&nbsp;</span>Conclusions of modelling</a></span></li></ul></li><li><span><a href=\"#Discount-classifier-modelling\" data-toc-modified-id=\"Discount-classifier-modelling-9\"><span class=\"toc-item-num\">9&nbsp;&nbsp;</span>Discount classifier modelling</a></span><ul class=\"toc-item\"><li><span><a href=\"#Description-to-applied-methodology\" data-toc-modified-id=\"Description-to-applied-methodology-9.1\"><span class=\"toc-item-num\">9.1&nbsp;&nbsp;</span>Description to applied methodology</a></span></li><li><span><a href=\"#Importing-data-to-dataframe\" data-toc-modified-id=\"Importing-data-to-dataframe-9.2\"><span class=\"toc-item-num\">9.2&nbsp;&nbsp;</span>Importing data to dataframe</a></span></li><li><span><a href=\"#Creating-category-classes\" data-toc-modified-id=\"Creating-category-classes-9.3\"><span class=\"toc-item-num\">9.3&nbsp;&nbsp;</span>Creating category classes</a></span></li><li><span><a href=\"#User's-functions\" data-toc-modified-id=\"User's-functions-9.4\"><span class=\"toc-item-num\">9.4&nbsp;&nbsp;</span>User's functions</a></span></li><li><span><a href=\"#Dataset-preparation-and-model-running.-Case-A\" data-toc-modified-id=\"Dataset-preparation-and-model-running.-Case-A-9.5\"><span class=\"toc-item-num\">9.5&nbsp;&nbsp;</span>Dataset preparation and model running. Case A</a></span></li><li><span><a href=\"#Dataset-preparation-and-model-running.-Case-B\" data-toc-modified-id=\"Dataset-preparation-and-model-running.-Case-B-9.6\"><span class=\"toc-item-num\">9.6&nbsp;&nbsp;</span>Dataset preparation and model running. Case B</a></span></li><li><span><a href=\"#Conclusions-of-modelling\" data-toc-modified-id=\"Conclusions-of-modelling-9.7\"><span class=\"toc-item-num\">9.7&nbsp;&nbsp;</span>Conclusions of modelling</a></span></li></ul></li><li><span><a href=\"#General-recommendations\" data-toc-modified-id=\"General-recommendations-10\"><span class=\"toc-item-num\">10&nbsp;&nbsp;</span>General recommendations</a></span></li></ul></div>"
   ]
  },
  {
   "cell_type": "markdown",
   "metadata": {},
   "source": [
    "## Hypothesis setting"
   ]
  },
  {
   "cell_type": "markdown",
   "metadata": {},
   "source": [
    "**1. Main. Does discount amount have a statistically significant effect on the quantity of a product in an order? If so, at what level(s) of discount?**\n",
    "  - methodology: AB-testing\n",
    "  - formalization: Ho: E(product amount|discount) = E(product amount|no discount)\n",
    "  - test type: 2-sample t-test or Welsch-test, 2-tail\n",
    "\n",
    "**2. Additional. Does discount amount have a statistically significant effect on the SALES (price x amount) of a product in an order? If so, at what level(s) of discount?**\n",
    "  - methodology: AB-testing\n",
    "  - formalization: Ho: E(product amount|discount) = E(product amount|no discount)\n",
    "  - test type: 2-sample t-test or Welsch-test, 2-tail\n",
    "\n",
    "\n",
    "**3. Additional. Is shipper is affect on shipped date (delays) of order?**\n",
    "  - **version 1. Multiple AB-testing**\n",
    "      - methodology: AB-testing with ALPHA-adjustment (ALPHA / 3)\n",
    "      - key variable: delay = shipped date - required date\n",
    "      - formalization: Ho: E(delay |shipper A) = E(delay |shipper B)\n",
    "      - test type: 2-sample t-test or Welsch-test, 2-tail tail\n",
    "  - **version 2. ANOVA**\n",
    "      - methodology: ANOVA model\n",
    "      - as for regressor I use primary key for shipper \n",
    "\n",
    "\n",
    "**4. Additional. Is a fact, that product is in Stock, but not in Order could affect on Discount on prices?**\n",
    "  - **version 1. AB-testing**\n",
    "      - methodology: AB-testing\n",
    "      - formalization: Ho: E(discounted products|Not OrderedProducts In stock) > E(discounted products|Ordered products)\n",
    "      - test type: 2-sample t-test or Welsch-test, right-hand tail\n",
    "  - **version 2. ANOVA**  \n",
    "      - methodology: ANOVA model\n",
    "      - as for regressor I use primary UnorderedPortion new variable\n",
    "\n",
    "**5. Additional. Is any correlation between discount level and Category of product?**\n",
    "  - methodology: ANOVA\n",
    "  - formalization: discount level ~ f(category)\n",
    "\n",
    "**6. Additional. Finding other significant variables to discount level**\n",
    "  - methodology: ANOVA\n",
    "  - formalization: discount level ~ f(variable)\n",
    "\n",
    "\n",
    "**7. Additional. Classification model on Discount level**\n",
    "  - methodology: Naive Bayes Classifier\n",
    "  - target variable: Discount level (binned to dummy variable)\n",
    "  - predictors: UnitPrice (before discount), Quantity, Significant Variable from Hypothesis 6\n"
   ]
  },
  {
   "cell_type": "markdown",
   "metadata": {},
   "source": [
    "## Importing libraries and data"
   ]
  },
  {
   "cell_type": "markdown",
   "metadata": {},
   "source": [
    "### Importing modules and general configuration"
   ]
  },
  {
   "cell_type": "code",
   "execution_count": 1,
   "metadata": {},
   "outputs": [],
   "source": [
    "import numpy as np\n",
    "import scipy.stats as stats\n",
    "import pandas as pd\n",
    "import matplotlib.pyplot as plt\n",
    "import seaborn as sns\n",
    "import sqlite3\n",
    "import datetime as dt\n",
    "from itertools import combinations as comb \n",
    "\n",
    "from statsmodels.stats.power import TTestIndPower as TTP\n",
    "from sklearn.model_selection import train_test_split\n",
    "import statsmodels.api as sm\n",
    "from statsmodels.formula.api import ols\n",
    "\n",
    "import warnings\n",
    "from IPython.display import set_matplotlib_formats\n",
    "\n",
    "%matplotlib inline\n",
    "\n",
    "\n",
    "#set_matplotlib_formats('svg')\n",
    "warnings.filterwarnings('ignore')"
   ]
  },
  {
   "cell_type": "markdown",
   "metadata": {},
   "source": [
    "### Loading data and general user's functions"
   ]
  },
  {
   "cell_type": "code",
   "execution_count": 2,
   "metadata": {},
   "outputs": [
    {
     "name": "stdout",
     "output_type": "stream",
     "text": [
      "['Employee', 'Category', 'Customer', 'Shipper', 'Supplier', 'Order', 'Product', 'OrderDetail', 'CustomerCustomerDemo', 'CustomerDemographic', 'Region', 'Territory', 'EmployeeTerritory']\n"
     ]
    }
   ],
   "source": [
    "ALPHA = 0.05\n",
    "\n",
    "conn = sqlite3.connect('Northwind_small.sqlite')\n",
    "cur = conn.cursor()\n",
    "ttp = TTP() # testpower instance\n",
    "\n",
    "def sql_request(request_str, cursor = cur):\n",
    "    '''return result of sql-request in STR format,\n",
    "    this is internal function for sql_2_df function'''\n",
    "    return cursor.execute(request_str).fetchall()\n",
    "\n",
    "sql_tables = sql_request('''SELECT name FROM sqlite_master WHERE type='table';''')\n",
    "sql_tables = [i[0] for i in sql_tables]\n",
    "print(sql_tables)\n",
    "\n",
    "def str_2_date(yyyy_mm_dd):\n",
    "    '''convert date in str format to datetime format'''\n",
    "    date = yyyy_mm_dd.split('-')\n",
    "    date = [int(i) for i in date]\n",
    "    date = dt.date(date[0], date[1], date[2])\n",
    "    return date\n",
    "\n",
    "\n",
    "def sql_2_df(request_str, cursor = cur):\n",
    "    '''return df-object from given request string and cursor object'''\n",
    "    _results = sql_request(request_str=request_str, cursor=cur)\n",
    "    _df = pd.DataFrame(_results)\n",
    "    _df.columns = [i[0] for i in cur.description]\n",
    "    return _df\n",
    "\n",
    "def welch_stat(a,b):\n",
    "    '''return welch t-statistics for 2 vectors (nd-arrays),\n",
    "    this is internal function for welch_p_value function'''\n",
    "    numerator = a.mean() - b.mean()\n",
    "    denominator = np.sqrt(a.var(ddof=1)/a.size + b.var(ddof=1)/b.size)\n",
    "    return np.abs(numerator/denominator)\n",
    "\n",
    "def welch_df(a,b):\n",
    "    '''return welch degree of freedom for 2 vectors (nd-arrays),\n",
    "    this is internal function for welch_p_value function'''\n",
    "    numerator = (a.var(ddof=1)/a.size + b.var(ddof=1)/b.size)**2\n",
    "    denominator = (a.var(ddof=1))**2/((a.size**2)*(a.size-1)) + (b.var(ddof=1))**2/((b.size**2)*(b.size-1))\n",
    "    return numerator/denominator\n",
    "\n",
    "def welch_p_value(a, b, two_sided=False):\n",
    "    '''return p-value for welch test for 2 vectors (nd-arrays)'''\n",
    "    t = welch_stat(a, b)\n",
    "    df = welch_df(a, b)\n",
    "    p = 1-stats.t.cdf(np.abs(t), df)\n",
    "    if two_sided:\n",
    "        return 2*p\n",
    "    else:\n",
    "        return p\n",
    "\n",
    "def cohen_D(a,b):\n",
    "    '''return normalized effect size in form of cohen D for given 2 vectors (nd-arrays)'''\n",
    "    d = np.abs(a.mean() - b.mean())\n",
    "    n1, n2 = len(a), len(b)\n",
    "    v1, v2 = a.var(), b.var()\n",
    "    p_var = (n1*v1 + n2*v2)/(n1+n2)\n",
    "    return d/np.sqrt(p_var)\n",
    "\n",
    "def calc_power(a,b):\n",
    "    '''return statistical test power for given 2 vectors (nd-arrays)'''\n",
    "    d = cohen_D(a=a, b=b)\n",
    "    power = ttp.solve_power(effect_size = d, nobs1=len(a), alpha=ALPHA)\n",
    "    return power"
   ]
  },
  {
   "cell_type": "markdown",
   "metadata": {},
   "source": [
    "## Hypothesis 1"
   ]
  },
  {
   "cell_type": "markdown",
   "metadata": {},
   "source": [
    "**Does discount amount have a statistically significant effect on the quantity of a product in an order? If so, at what level(s) of discount?**"
   ]
  },
  {
   "cell_type": "markdown",
   "metadata": {},
   "source": [
    "### Import data to dataframe"
   ]
  },
  {
   "cell_type": "code",
   "execution_count": 3,
   "metadata": {},
   "outputs": [],
   "source": [
    "sql_all = '''SELECT o.id, od.Quantity, od.Discount FROM \"Order\" o join OrderDetail od ON o.Id = od.OrderID;'''\n",
    "\n",
    "df_initial = sql_2_df(sql_all)\n",
    "discount_levels = sorted(list(set(df_initial.Discount)))"
   ]
  },
  {
   "cell_type": "markdown",
   "metadata": {},
   "source": [
    "### Description to applied methodology"
   ]
  },
  {
   "cell_type": "markdown",
   "metadata": {},
   "source": [
    "**Test Version 1**\n",
    "- In general I used 2-tail version of Welch-test for 2 groups\n",
    "- Group A: no discount. Here I've made np-array with all Quantities grouped by Order where discount = 0%\n",
    "- Groups B: were defined as arrays where discount > some level\n",
    "- All levels were defined by given discounts from databases\n",
    "- **Main  result from here is to find minimum discount level, which is significanlty affect on product volumes per order.**\n",
    "\n",
    "**Test Version 2**\n",
    "- **Here I tried to understand, which max level of Discount is unsignificant on product volumes per order**\n",
    "- Key difference from Version 1 is the that Group A for selected Discount level is defined as Group where Discount less than the discount level."
   ]
  },
  {
   "cell_type": "markdown",
   "metadata": {},
   "source": [
    "### Visual analysis-1. KDE"
   ]
  },
  {
   "cell_type": "code",
   "execution_count": 4,
   "metadata": {},
   "outputs": [
    {
     "data": {
      "image/png": "[encoded data removed]",
      "text/plain": [
       "<Figure size 432x288 with 1 Axes>"
      ]
     },
     "metadata": {
      "needs_background": "light"
     },
     "output_type": "display_data"
    }
   ],
   "source": [
    "df_A = df_initial.loc[df_initial.Discount == 0]\n",
    "\n",
    "array_A = df_A.groupby(by='Id').sum()['Quantity']\n",
    "array_A = np.array(array_A)\n",
    "avg_product_volumes = [array_A.mean()]\n",
    "\n",
    "plt.title('kde for product with different discounts')\n",
    "ax = sns.kdeplot(array_A, label='no discount', linestyle='-.', c='r')\n",
    "    \n",
    "\n",
    "for d in discount_levels[1:]:\n",
    "    df_B = df_initial.loc[df_initial.Discount >= d]\n",
    "    array_B = df_B.groupby(by='Id').sum()['Quantity']\n",
    "    array_B = np.array(array_B)\n",
    "    avg_product_volumes.append(array_B.mean())\n",
    "    sns.kdeplot(array_B, label=f'discount>={d}');\n",
    "    \n"
   ]
  },
  {
   "cell_type": "markdown",
   "metadata": {},
   "source": [
    "### Visual analysis-2. Grouped means"
   ]
  },
  {
   "cell_type": "code",
   "execution_count": 5,
   "metadata": {},
   "outputs": [
    {
     "data": {
      "image/png": "[encoded data removed]",
      "text/plain": [
       "<Figure size 432x288 with 1 Axes>"
      ]
     },
     "metadata": {
      "needs_background": "light"
     },
     "output_type": "display_data"
    }
   ],
   "source": [
    "net_marginal_effect = [0]\n",
    "\n",
    "start = avg_product_volumes[0]\n",
    "for i in avg_product_volumes[1:]:\n",
    "    net_marginal_effect.append(i - start)\n",
    "    start = i\n",
    "\n",
    "plt.title('average order volumes per discount level')\n",
    "plt.xlabel('discount level')\n",
    "plt.ylabel('product volumes')\n",
    "plt.plot(discount_levels,avg_product_volumes, label='gross volumes')\n",
    "plt.plot(discount_levels, net_marginal_effect, label = 'net increase to prev.discount level')\n",
    "plt.legend()\n",
    "plt.show()"
   ]
  },
  {
   "cell_type": "markdown",
   "metadata": {},
   "source": [
    "### User's function for Hypothesis-1"
   ]
  },
  {
   "cell_type": "code",
   "execution_count": 6,
   "metadata": {},
   "outputs": [],
   "source": [
    "def run_H1_test(key_column, two_sided, result_dict, df=df_initial, \n",
    "                discount_levels = discount_levels, version = \"Version 1\"):\n",
    "    \"\"\"\n",
    "    return a dict with p-values and test power for subgroups with selected discount levels,\n",
    "    plot the dict keys and values,\n",
    "    key_columns - name (string) of tested variable for Ho,\n",
    "    two_sided: bool, if True, 2-sided test applied,\n",
    "    df - main source of data,\n",
    "    discount_levels - list of discount rates for loop,\n",
    "    version - if other than Version 1 given, marginal test applied\n",
    "    \"\"\"\n",
    "    for d in discount_levels[1:]:\n",
    "        if version == 'Version 1':\n",
    "            df_A = df.loc[df_initial.Discount == 0]\n",
    "        else:\n",
    "            df_A = df.loc[df_initial.Discount < d]\n",
    "        df_B = df_initial.loc[df_initial.Discount >= d]\n",
    "        array_A = df_A.groupby(by='Id').sum()[key_column]\n",
    "        array_A = np.array(array_A)\n",
    "        array_B = df_B.groupby(by='Id').sum()[key_column]\n",
    "        array_B = np.array(array_B)\n",
    "        p_value = welch_p_value(array_A, array_B, two_sided=two_sided)\n",
    "        power = calc_power(array_A, array_B)\n",
    "        result_dict[d] = [p_value, power]\n",
    "\n",
    "    power_list = []\n",
    "    p_value_list = []\n",
    "    for d in result_dict.keys():\n",
    "        target = result_dict[d]\n",
    "        p_value_list.append(target[0])\n",
    "        power_list.append(target[1])\n",
    "\n",
    "    plt.title(f'welch-test p-values s.t. discount level, {version}')\n",
    "    plt.xlabel('discount level')\n",
    "    plt.ylabel('p-value, power')\n",
    "    plt.plot(result_dict.keys(), p_value_list, label = 'p_value')\n",
    "    plt.plot(result_dict.keys(), power_list, label = 'test power')\n",
    "    plt.hlines(ALPHA, min(discount_levels[1:]),max(discount_levels[1:]), colors='r', \n",
    "               linestyles='-.', label = 'break-even level')\n",
    "    plt.legend()\n",
    "    plt.show()\n",
    "    return result_dict"
   ]
  },
  {
   "cell_type": "code",
   "execution_count": 7,
   "metadata": {},
   "outputs": [
    {
     "name": "stdout",
     "output_type": "stream",
     "text": [
      "\n",
      "    return a dict with p-values and test power for subgroups with selected discount levels,\n",
      "    plot the dict keys and values,\n",
      "    key_columns - name (string) of tested variable for Ho,\n",
      "    two_sided: bool, if True, 2-sided test applied,\n",
      "    df - main source of data,\n",
      "    discount_levels - list of discount rates for loop,\n",
      "    version - if other than Version 1 given, marginal test applied\n",
      "    \n"
     ]
    }
   ],
   "source": [
    "print(run_H1_test.__doc__)\n",
    "\n"
   ]
  },
  {
   "cell_type": "markdown",
   "metadata": {},
   "source": [
    "### Testing Version 1"
   ]
  },
  {
   "cell_type": "code",
   "execution_count": 8,
   "metadata": {},
   "outputs": [
    {
     "data": {
      "image/png": "[encoded data removed]",
      "text/plain": [
       "<Figure size 432x288 with 1 Axes>"
      ]
     },
     "metadata": {
      "needs_background": "light"
     },
     "output_type": "display_data"
    },
    {
     "data": {
      "text/plain": [
       "{0.01: [1.4783174283383715e-05, 0.9990674536275805],\n",
       " 0.02: [1.49058418354997e-05, 0.9990607653734005],\n",
       " 0.03: [1.5156795776904985e-05, 0.9990471612766852],\n",
       " 0.04: [1.548130940309811e-05, 0.9990297206603566],\n",
       " 0.05: [1.5547690485950838e-05, 0.9990261733895073],\n",
       " 0.06: [0.00010758480528916259, 0.9988105484589015],\n",
       " 0.1: [0.00010859187447431751, 0.9987994481374072],\n",
       " 0.15: [0.0006435245204963191, 0.998952832860149],\n",
       " 0.2: [0.003918865565807117, 0.9992895768919856],\n",
       " 0.25: [0.033096821934828435, 0.9996689972626475]}"
      ]
     },
     "metadata": {},
     "output_type": "display_data"
    }
   ],
   "source": [
    "H1_test_result_v1 = dict.fromkeys(discount_levels[1:])\n",
    "H1_test_result_v1 = run_H1_test(key_column='Quantity', two_sided=True, \n",
    "                                result_dict=H1_test_result_v1,version = \"Version 1\")\n",
    "display(H1_test_result_v1)"
   ]
  },
  {
   "cell_type": "markdown",
   "metadata": {},
   "source": [
    "### Testing Version 2"
   ]
  },
  {
   "cell_type": "code",
   "execution_count": 9,
   "metadata": {},
   "outputs": [
    {
     "data": {
      "image/png": "[encoded data removed]",
      "text/plain": [
       "<Figure size 432x288 with 1 Axes>"
      ]
     },
     "metadata": {
      "needs_background": "light"
     },
     "output_type": "display_data"
    },
    {
     "data": {
      "text/plain": [
       "{0.01: [1.4783174283383715e-05, 0.9990674536275805],\n",
       " 0.02: [1.4974835277792309e-05, 0.999057048702414],\n",
       " 0.03: [1.5369067001502756e-05, 0.9990357242510015],\n",
       " 0.04: [1.5883063309019008e-05, 0.9990080742319978],\n",
       " 0.05: [1.598878404829307e-05, 0.9990024079564639],\n",
       " 0.06: [0.005416260494569114, 0.9546467578626001],\n",
       " 0.1: [0.005468342174622665, 0.9542676779232114],\n",
       " 0.15: [0.10827216264320705, 0.6807273496084221],\n",
       " 0.2: [0.5198292516864975, 0.21338308017807534],\n",
       " 0.25: [0.8442111915157096, 0.07948896529431898]}"
      ]
     },
     "metadata": {},
     "output_type": "display_data"
    }
   ],
   "source": [
    "H1_test_result_v2 = dict.fromkeys(discount_levels[1:])\n",
    "\n",
    "H1_test_result_v2 = run_H1_test(key_column='Quantity', two_sided=True, \n",
    "                                result_dict=H1_test_result_v2,version = \"Version 2\")\n",
    "display(H1_test_result_v2)"
   ]
  },
  {
   "cell_type": "markdown",
   "metadata": {},
   "source": [
    "### Conclusions of testing"
   ]
  },
  {
   "cell_type": "markdown",
   "metadata": {},
   "source": [
    "  1. According to Welch-test results any discount (starting from 1%-level) is affect on average number of products in 1 order.\n",
    "  2. But marginal effect between levels of discount is unsignicant starting from 15%, it means, that there is no statistically significant difference between product numbers for 10% and 15% discount levels.\n",
    "  3. Because of small size effect, testing marginal effect for high values (20%+) has low level of power.\n",
    "  4. Visual analysis shows noticable shift KDE plot starting from 1% discount, but marginal (positive) effect slowed down after (even to negative values)\n",
    " \n",
    "**Business reccomendation - use discount in order to increase order volumes, but limit discount rates in range from 1% to 10%**\n"
   ]
  },
  {
   "cell_type": "markdown",
   "metadata": {},
   "source": [
    "## Hypothesis 2"
   ]
  },
  {
   "cell_type": "markdown",
   "metadata": {},
   "source": [
    "**Does discount amount have a statistically significant effect on the SALES of a product in an order? If so, at what level(s) of discount?**"
   ]
  },
  {
   "cell_type": "markdown",
   "metadata": {},
   "source": [
    "### Description to applied methodology"
   ]
  },
  {
   "cell_type": "markdown",
   "metadata": {},
   "source": [
    "**Overall steps here similar to the ones for Hypothesis-1 with only one difference:**\n",
    "  - I used Sales instead of Quantity variable,\n",
    "  - where Sales = Quantity x Price"
   ]
  },
  {
   "cell_type": "markdown",
   "metadata": {},
   "source": [
    "### Visual analysis"
   ]
  },
  {
   "cell_type": "code",
   "execution_count": 10,
   "metadata": {},
   "outputs": [
    {
     "data": {
      "image/png": "[encoded data removed]",
      "text/plain": [
       "<Figure size 432x288 with 1 Axes>"
      ]
     },
     "metadata": {
      "needs_background": "light"
     },
     "output_type": "display_data"
    }
   ],
   "source": [
    "sql_price_check = '''SELECT od.OrderID, od.UnitPrice, od.Discount, p.UnitPrice as OriginalPrice\n",
    "                    FROM OrderDetail od JOIN Product p ON od.ProductID = p.id;'''\n",
    "df_check = sql_2_df(sql_price_check)\n",
    "\n",
    "sns.kdeplot(df_check['UnitPrice'])\n",
    "sns.kdeplot(df_check['OriginalPrice']);"
   ]
  },
  {
   "cell_type": "markdown",
   "metadata": {},
   "source": [
    "As we see from chart, effective prices have little discounts comparing with initial prices from Product table.  \n",
    "I will not adjust UnitPrice by excluding Discount for further analysis, because the goal of analysis is to see NET cash effect on Sales (with discounted prices)"
   ]
  },
  {
   "cell_type": "markdown",
   "metadata": {},
   "source": [
    "### Importing data to dataframe"
   ]
  },
  {
   "cell_type": "code",
   "execution_count": 11,
   "metadata": {},
   "outputs": [
    {
     "data": {
      "text/html": [
       "<div>\n",
       "<style scoped>\n",
       "    .dataframe tbody tr th:only-of-type {\n",
       "        vertical-align: middle;\n",
       "    }\n",
       "\n",
       "    .dataframe tbody tr th {\n",
       "        vertical-align: top;\n",
       "    }\n",
       "\n",
       "    .dataframe thead th {\n",
       "        text-align: right;\n",
       "    }\n",
       "</style>\n",
       "<table border=\"1\" class=\"dataframe\">\n",
       "  <thead>\n",
       "    <tr style=\"text-align: right;\">\n",
       "      <th></th>\n",
       "      <th>Id</th>\n",
       "      <th>Quantity</th>\n",
       "      <th>Discount</th>\n",
       "      <th>UnitPrice</th>\n",
       "      <th>Sales</th>\n",
       "    </tr>\n",
       "  </thead>\n",
       "  <tbody>\n",
       "    <tr>\n",
       "      <th>0</th>\n",
       "      <td>10248</td>\n",
       "      <td>12</td>\n",
       "      <td>0.0</td>\n",
       "      <td>14.0</td>\n",
       "      <td>168.0</td>\n",
       "    </tr>\n",
       "    <tr>\n",
       "      <th>1</th>\n",
       "      <td>10248</td>\n",
       "      <td>10</td>\n",
       "      <td>0.0</td>\n",
       "      <td>9.8</td>\n",
       "      <td>98.0</td>\n",
       "    </tr>\n",
       "    <tr>\n",
       "      <th>2</th>\n",
       "      <td>10248</td>\n",
       "      <td>5</td>\n",
       "      <td>0.0</td>\n",
       "      <td>34.8</td>\n",
       "      <td>174.0</td>\n",
       "    </tr>\n",
       "    <tr>\n",
       "      <th>3</th>\n",
       "      <td>10249</td>\n",
       "      <td>9</td>\n",
       "      <td>0.0</td>\n",
       "      <td>18.6</td>\n",
       "      <td>167.4</td>\n",
       "    </tr>\n",
       "    <tr>\n",
       "      <th>4</th>\n",
       "      <td>10249</td>\n",
       "      <td>40</td>\n",
       "      <td>0.0</td>\n",
       "      <td>42.4</td>\n",
       "      <td>1696.0</td>\n",
       "    </tr>\n",
       "  </tbody>\n",
       "</table>\n",
       "</div>"
      ],
      "text/plain": [
       "      Id  Quantity  Discount  UnitPrice   Sales\n",
       "0  10248        12       0.0       14.0   168.0\n",
       "1  10248        10       0.0        9.8    98.0\n",
       "2  10248         5       0.0       34.8   174.0\n",
       "3  10249         9       0.0       18.6   167.4\n",
       "4  10249        40       0.0       42.4  1696.0"
      ]
     },
     "execution_count": 11,
     "metadata": {},
     "output_type": "execute_result"
    }
   ],
   "source": [
    "sql_all = '''SELECT o.id, od.Quantity, od.Discount, od.UnitPrice FROM \"Order\" o \n",
    "            JOIN OrderDetail od ON o.Id = od.OrderID'''\n",
    "df_initial = sql_2_df(sql_all)\n",
    "discount_levels = sorted(list(set(df_initial.Discount)))\n",
    "df_initial['Sales'] = list(df_initial.UnitPrice * df_initial.Quantity)\n",
    "df_initial.head()"
   ]
  },
  {
   "cell_type": "markdown",
   "metadata": {},
   "source": [
    "### Testing hypothesis. Version-1"
   ]
  },
  {
   "cell_type": "code",
   "execution_count": 12,
   "metadata": {},
   "outputs": [
    {
     "data": {
      "image/png": "[encoded data removed]",
      "text/plain": [
       "<Figure size 432x288 with 1 Axes>"
      ]
     },
     "metadata": {
      "needs_background": "light"
     },
     "output_type": "display_data"
    },
    {
     "data": {
      "text/plain": [
       "{0.01: [0.0028835670572888716, 0.9438052408598204],\n",
       " 0.02: [0.0028898360272349155, 0.9437160716103182],\n",
       " 0.03: [0.002902657536051567, 0.9435340718016342],\n",
       " 0.04: [0.0029291711412275934, 0.9431592801998336],\n",
       " 0.05: [0.0029466282415024914, 0.9429136446199358],\n",
       " 0.06: [0.019196368447526035, 0.8548284026648676],\n",
       " 0.1: [0.01929469939023032, 0.8542797618435475],\n",
       " 0.15: [0.02365171154933443, 0.9292594140906665],\n",
       " 0.2: [0.026444155213344533, 0.9921981569897381],\n",
       " 0.25: [0.053430442687952606, 1.0]}"
      ]
     },
     "metadata": {},
     "output_type": "display_data"
    }
   ],
   "source": [
    "H2_test_result_v1 = dict.fromkeys(discount_levels[1:])\n",
    "H2_test_result_v1 = run_H1_test(key_column='Sales', two_sided=True, \n",
    "                                result_dict=H2_test_result_v1,version = \"Version 1\", df=df_initial)\n",
    "display(H2_test_result_v1)"
   ]
  },
  {
   "cell_type": "markdown",
   "metadata": {},
   "source": [
    "### Testing hypothesis. Version-2"
   ]
  },
  {
   "cell_type": "code",
   "execution_count": 13,
   "metadata": {},
   "outputs": [
    {
     "data": {
      "image/png": "[encoded data removed]",
      "text/plain": [
       "<Figure size 432x288 with 1 Axes>"
      ]
     },
     "metadata": {
      "needs_background": "light"
     },
     "output_type": "display_data"
    },
    {
     "data": {
      "text/plain": [
       "{0.01: [0.0028835670572888716, 0.9438052408598204],\n",
       " 0.02: [0.0028934602177097535, 0.9436653548354047],\n",
       " 0.03: [0.0029137223553452607, 0.9433793734029751],\n",
       " 0.04: [0.00295574258308684, 0.9427884956054718],\n",
       " 0.05: [0.0029834975369904537, 0.9423998199399498],\n",
       " 0.06: [0.1787694560818791, 0.4117931513767531],\n",
       " 0.1: [0.17962117979640202, 0.41049194380616794],\n",
       " 0.15: [0.30912804900184776, 0.3552773638099559],\n",
       " 0.2: [0.3464239665925981, 0.48796535678232605],\n",
       " 0.25: [0.34755452009285337, 0.8534068114041448]}"
      ]
     },
     "metadata": {},
     "output_type": "display_data"
    }
   ],
   "source": [
    "H2_test_result_v2 = dict.fromkeys(discount_levels[1:])\n",
    "H2_test_result_v2 = run_H1_test(key_column='Sales', two_sided=True, \n",
    "                                result_dict=H2_test_result_v1,version = \"Version 2\", df=df_initial)\n",
    "display(H2_test_result_v2)"
   ]
  },
  {
   "cell_type": "markdown",
   "metadata": {},
   "source": [
    "### Conclusions of testing"
   ]
  },
  {
   "cell_type": "markdown",
   "metadata": {},
   "source": [
    "  1. According to Welch-test results any discount (starting from 1%-level) is positively affect on average volume of sales in cash within an order.\n",
    "  2. But positive and significant marginal effect between levels of discount can be noticed only in range from 1% to 5% discount rate\n",
    "  3. For discount higher than 5% statistical difference between previous level and current level in terms of average sales is unsignificant and has low power estimation, because of low size effects.\n",
    "  \n",
    "**Business reccomendation - for maximising SALES use discount in range 1%-5% in order to increase NET total sales in cash**\n"
   ]
  },
  {
   "cell_type": "markdown",
   "metadata": {},
   "source": [
    "## Hypothesis 3"
   ]
  },
  {
   "cell_type": "markdown",
   "metadata": {},
   "source": [
    "**Is shipper is affect on shipped date (delays) of order?**"
   ]
  },
  {
   "cell_type": "markdown",
   "metadata": {},
   "source": [
    "### Description to applied methodology"
   ]
  },
  {
   "cell_type": "markdown",
   "metadata": {},
   "source": [
    "**Version 1. Multiple AB-testing** \n",
    "- Here we have multiple groups for testing (3 types of shipper company):\n",
    "  - Ho: E(delay | shipper A) = E(delay | shipper B)\n",
    "  - Ho: E(delay | shipper A) = E(delay | shipper C)\n",
    "  - Ho: E(delay | shipper B) = E(delay | shipper C)\n",
    "- According to Bonferonni approach: ALPHA_adj = ALPHA / m = ALPHA / 3\n",
    "\n",
    "**Version 2. ANOVA-testing**\n",
    "- Simple OLS with F-test"
   ]
  },
  {
   "cell_type": "markdown",
   "metadata": {},
   "source": [
    "### Importing data to dataframe and changing datatypes"
   ]
  },
  {
   "cell_type": "code",
   "execution_count": 14,
   "metadata": {},
   "outputs": [
    {
     "name": "stdout",
     "output_type": "stream",
     "text": [
      "<class 'pandas.core.frame.DataFrame'>\n",
      "RangeIndex: 830 entries, 0 to 829\n",
      "Data columns (total 5 columns):\n",
      "Id              830 non-null int64\n",
      "ShippedDate     809 non-null object\n",
      "RequiredDate    830 non-null object\n",
      "Shipper         830 non-null object\n",
      "ShipperID       830 non-null int64\n",
      "dtypes: int64(2), object(3)\n",
      "memory usage: 32.5+ KB\n"
     ]
    },
    {
     "data": {
      "text/plain": [
       "None"
      ]
     },
     "metadata": {},
     "output_type": "display_data"
    },
    {
     "name": "stdout",
     "output_type": "stream",
     "text": [
      "{'Speedy Express', 'Federal Shipping', 'United Package'}\n",
      "United Package      315\n",
      "Federal Shipping    249\n",
      "Speedy Express      245\n",
      "Name: Shipper, dtype: int64\n"
     ]
    }
   ],
   "source": [
    "ALPHA_adj = ALPHA / 3\n",
    "\n",
    "sql_all = '''SELECT o.id, o.ShippedDate, o.RequiredDate, sh.CompanyName as Shipper, sh.id as ShipperID \n",
    "            FROM \"Order\" o JOIN Shipper sh ON o.ShipVia = sh.id'''\n",
    "df_initial = sql_2_df(sql_all)\n",
    "shipper_list = list(df_initial['Shipper'].unique())\n",
    "shipper_list = list(comb(shipper_list, 2))\n",
    "\n",
    "\n",
    "display(df_initial.info())\n",
    "\n",
    "# let's take out samples for missing data (in Shipped Date)\n",
    "index_2_drop = df_initial.loc[df_initial.ShippedDate.isna()].index\n",
    "df_initial = df_initial.drop(index=index_2_drop,axis=0)\n",
    "\n",
    "# transforming data to datetime and calculate delay as INT\n",
    "ShippedD = list(df_initial.ShippedDate)\n",
    "RequiredD = list(df_initial.RequiredDate)\n",
    "ShippedD = np.array([str_2_date(i) for i in ShippedD])\n",
    "RequiredD = np.array([str_2_date(i) for i in RequiredD])\n",
    "DelayD = ShippedD - RequiredD\n",
    "DelayD = [i.days for i in DelayD]\n",
    "\n",
    "df_initial['Delay'] = DelayD\n",
    "print(set(df_initial.Shipper))\n",
    "print(df_initial.Shipper.value_counts())"
   ]
  },
  {
   "cell_type": "markdown",
   "metadata": {},
   "source": [
    "### User's function for AB-testing"
   ]
  },
  {
   "cell_type": "code",
   "execution_count": 15,
   "metadata": {},
   "outputs": [],
   "source": [
    "def run_H3_single_test(key_pair, result_dict, two_sided, df=df_initial):\n",
    "    \"\"\"\n",
    "    return a dict with p-values, test power and cohen D for given pair in a single AB-test,\n",
    "    key_pair - list of 2 tested values of Shipper for Ho,\n",
    "    two_sided: bool, if True, 2-sided test applied,\n",
    "    df - main source of data,\n",
    "    \"\"\"\n",
    "    shipper_A, shipper_B = key_pair[0], key_pair[1]\n",
    "    df_A = df.loc[df.Shipper == shipper_A]\n",
    "    df_B = df.loc[df.Shipper == shipper_B]\n",
    "    array_A = np.array(df_A.Delay)\n",
    "    array_B = np.array(df_B.Delay)\n",
    "    p_value = welch_p_value(array_A, array_B, two_sided=two_sided)\n",
    "    power = calc_power(array_A, array_B)\n",
    "    effect_size = cohen_D(array_A, array_B)\n",
    "    result_dict[key_pair] = [p_value, power, effect_size, array_A.mean(), array_B.mean()]\n",
    "    return result_dict"
   ]
  },
  {
   "cell_type": "markdown",
   "metadata": {},
   "source": [
    "### Version 1. Multiple AB-testing"
   ]
  },
  {
   "cell_type": "code",
   "execution_count": 16,
   "metadata": {},
   "outputs": [
    {
     "name": "stdout",
     "output_type": "stream",
     "text": [
      "('Federal Shipping', 'Speedy Express')\n",
      "--------------------------------------------------\n",
      "p-value = 0.545 => No statistical difference\n",
      "test power = 0.09\n",
      "normalized effect size (Cohen D) = 0.05\n",
      "__________________________________________________\n",
      "\n",
      "\n",
      "('Federal Shipping', 'United Package')\n",
      "--------------------------------------------------\n",
      "p-value = 0.099 => No statistical difference\n",
      "test power = 0.34\n",
      "normalized effect size (Cohen D) = 0.14\n",
      "__________________________________________________\n",
      "\n",
      "\n",
      "('Speedy Express', 'United Package')\n",
      "--------------------------------------------------\n",
      "p-value = 0.364 => No statistical difference\n",
      "test power = 0.14\n",
      "normalized effect size (Cohen D) = 0.08\n",
      "__________________________________________________\n",
      "\n",
      "\n"
     ]
    }
   ],
   "source": [
    "results = dict.fromkeys(shipper_list)\n",
    "\n",
    "for pair in shipper_list:\n",
    "    results = run_H3_single_test(pair,results, two_sided=True)\n",
    "    \n",
    "    print(pair)\n",
    "    print(50*'-')\n",
    "    if results[pair][0] < ALPHA_adj:\n",
    "        verdict = 'Difference is significant'\n",
    "    else:\n",
    "        verdict = 'No statistical difference'\n",
    "    print(f'p-value = {round(results[pair][0],3)} => {verdict}')\n",
    "    print(f'test power = {round(results[pair][1],2)}')\n",
    "    print(f'normalized effect size (Cohen D) = {round(results[pair][2],2)}')\n",
    "    print(50*'_')\n",
    "    print('\\n')"
   ]
  },
  {
   "cell_type": "markdown",
   "metadata": {},
   "source": [
    "### Version 2. ANOVA-testing"
   ]
  },
  {
   "cell_type": "code",
   "execution_count": 17,
   "metadata": {},
   "outputs": [
    {
     "data": {
      "text/html": [
       "<div>\n",
       "<style scoped>\n",
       "    .dataframe tbody tr th:only-of-type {\n",
       "        vertical-align: middle;\n",
       "    }\n",
       "\n",
       "    .dataframe tbody tr th {\n",
       "        vertical-align: top;\n",
       "    }\n",
       "\n",
       "    .dataframe thead th {\n",
       "        text-align: right;\n",
       "    }\n",
       "</style>\n",
       "<table border=\"1\" class=\"dataframe\">\n",
       "  <thead>\n",
       "    <tr style=\"text-align: right;\">\n",
       "      <th></th>\n",
       "      <th>sum_sq</th>\n",
       "      <th>df</th>\n",
       "      <th>F</th>\n",
       "      <th>PR(&gt;F)</th>\n",
       "    </tr>\n",
       "  </thead>\n",
       "  <tbody>\n",
       "    <tr>\n",
       "      <th>C(Shipper)</th>\n",
       "      <td>206.107698</td>\n",
       "      <td>2.0</td>\n",
       "      <td>1.295355</td>\n",
       "      <td>0.27437</td>\n",
       "    </tr>\n",
       "    <tr>\n",
       "      <th>Residual</th>\n",
       "      <td>64122.490572</td>\n",
       "      <td>806.0</td>\n",
       "      <td>NaN</td>\n",
       "      <td>NaN</td>\n",
       "    </tr>\n",
       "  </tbody>\n",
       "</table>\n",
       "</div>"
      ],
      "text/plain": [
       "                  sum_sq     df         F   PR(>F)\n",
       "C(Shipper)    206.107698    2.0  1.295355  0.27437\n",
       "Residual    64122.490572  806.0       NaN      NaN"
      ]
     },
     "metadata": {},
     "output_type": "display_data"
    }
   ],
   "source": [
    "formula = 'Delay ~ C(Shipper)'\n",
    "\n",
    "lm = ols(formula, df_initial).fit()\n",
    "table = sm.stats.anova_lm(lm, typ=2)\n",
    "\n",
    "display(table)"
   ]
  },
  {
   "cell_type": "markdown",
   "metadata": {},
   "source": [
    "### Conclusions of testing"
   ]
  },
  {
   "cell_type": "markdown",
   "metadata": {},
   "source": [
    "  1. According to multiple AB-testing (Welch-test) there is no significant difference of Date Difference (Delay) of shipping between 3 Shippers.\n",
    "  2. But due to small size effects, AB-tests has low level of Power.\n",
    "  3. In order to alternative check, ANOVA-test on Shipper was applied\n",
    "  4. P-value of F-stat in ANOVA-test is higher than 5%, so we can conclude that no significant difference between Shippers in terms of shipping date accuracy\n",
    " \n",
    "**Business recommendation - All three shippers showed similar service quality in terms of shipping times, so it can be recommended to compare their fees**"
   ]
  },
  {
   "cell_type": "markdown",
   "metadata": {},
   "source": [
    "## Hypothesis 4"
   ]
  },
  {
   "cell_type": "markdown",
   "metadata": {},
   "source": [
    "**Is a fact, that product in Stock, but not in Order, could affect on Discount on prices?**"
   ]
  },
  {
   "cell_type": "markdown",
   "metadata": {},
   "source": [
    "### Description to applied methodology"
   ]
  },
  {
   "cell_type": "markdown",
   "metadata": {},
   "source": [
    "**Version 1. Single AB-testing** \n",
    "- All data splitted into to samples: with unordered products in stock and not\n",
    "- Ho: E(discount | unordered product portion in stock) =< E(discount | ordered product)\n",
    "- Welch test applied\n",
    "\n",
    "**Version 2. ANOVA**\n",
    " - multiple groups defined by unordered portion in stock levels"
   ]
  },
  {
   "cell_type": "markdown",
   "metadata": {},
   "source": [
    "### Importing data to dataframe"
   ]
  },
  {
   "cell_type": "code",
   "execution_count": 18,
   "metadata": {},
   "outputs": [],
   "source": [
    "sql_all = '''SELECT od.Discount, p.UnitsInStock, p.UnitsOnOrder FROM OrderDetail od join Product p \n",
    "            ON p.id = od.ProductID;'''\n",
    "\n",
    "df_initial = sql_2_df(sql_all)\n",
    "discount_levels = sorted(list(set(df_initial.Discount)))\n",
    "\n",
    "temp_list = []\n",
    "temp_list2 = []\n",
    "\n",
    "for i in df_initial.index:\n",
    "    _delta = df_initial.UnitsInStock[i] - df_initial.UnitsOnOrder[i]\n",
    "    if _delta > 0:\n",
    "        temp_list.append(_delta/df_initial.UnitsInStock[i])\n",
    "        #temp_list.append(_delta)\n",
    "        temp_list2.append(1)\n",
    "    else:\n",
    "        temp_list.append(0)\n",
    "        temp_list2.append(0)\n",
    "\n",
    "df_initial['UnorderedPortion'] = temp_list\n",
    "df_initial['UnorderedPortionDummy'] = temp_list2\n",
    "\n",
    "unordered_portion_list = sorted(list(df_initial.UnorderedPortion.unique()))"
   ]
  },
  {
   "cell_type": "markdown",
   "metadata": {},
   "source": [
    "### Visual analysis"
   ]
  },
  {
   "cell_type": "code",
   "execution_count": 19,
   "metadata": {},
   "outputs": [
    {
     "data": {
      "image/png": "[encoded data removed]",
      "text/plain": [
       "<Figure size 432x288 with 1 Axes>"
      ]
     },
     "metadata": {
      "needs_background": "light"
     },
     "output_type": "display_data"
    }
   ],
   "source": [
    "df_grouped = df_initial['UnorderedPortion'].groupby(by=df_initial['Discount']).mean()\n",
    "df_grouped = pd.DataFrame(df_grouped)\n",
    "\n",
    "plt.title('UnorderedPortion vs Discounts')\n",
    "plt.xlabel('Portion of unordered products of total products in stock')\n",
    "plt.ylabel('Discount')\n",
    "plt.scatter(df_grouped.UnorderedPortion, df_grouped.index);"
   ]
  },
  {
   "cell_type": "markdown",
   "metadata": {},
   "source": [
    "According to chart above it seems, that it could be small positive corellation between Unordered products and Discounts"
   ]
  },
  {
   "cell_type": "markdown",
   "metadata": {},
   "source": [
    "### User's function for AB-testing"
   ]
  },
  {
   "cell_type": "code",
   "execution_count": 20,
   "metadata": {},
   "outputs": [],
   "source": [
    "def run_H4_single_test(key_col, key_param, two_sided=True, df=df_initial):\n",
    "    \"\"\"\n",
    "    return a dict with p-values, test power and cohen D for key_param in a single AB-test,\n",
    "    key_param - name (string) of tested variable for Ho,\n",
    "    two_sided: bool, if True, 2-sided test applied,\n",
    "    df - main source of data\n",
    "    \"\"\"\n",
    "    df_A = df.loc[df[key_col] != key_param] # all goods ordered\n",
    "    df_B = df.loc[df[key_col] == key_param] # unordered goods exist\n",
    "    array_A = np.array(df_A.Discount)\n",
    "    array_B = np.array(df_B.Discount)\n",
    "    p_value = welch_p_value(array_A, array_B, two_sided=two_sided)\n",
    "    power = calc_power(array_A, array_B)\n",
    "    effect_size = cohen_D(array_A, array_B)\n",
    "    result = [p_value, power, effect_size, array_A.mean(), array_B.mean()]\n",
    "    return result"
   ]
  },
  {
   "cell_type": "markdown",
   "metadata": {},
   "source": [
    "### Version 1. Single AB-testing"
   ]
  },
  {
   "cell_type": "code",
   "execution_count": 21,
   "metadata": {},
   "outputs": [
    {
     "name": "stdout",
     "output_type": "stream",
     "text": [
      "p-value = 0.135\n",
      "normalised effect size = 0.057\n"
     ]
    }
   ],
   "source": [
    "result = run_H4_single_test('UnorderedPortionDummy', 1)\n",
    "print(f'p-value = {round(result[1],3)}')\n",
    "print(f'normalised effect size = {round(result[2],3)}')\n"
   ]
  },
  {
   "cell_type": "markdown",
   "metadata": {},
   "source": [
    "### Version 2. ANOVA testing"
   ]
  },
  {
   "cell_type": "code",
   "execution_count": 22,
   "metadata": {},
   "outputs": [
    {
     "data": {
      "text/html": [
       "<div>\n",
       "<style scoped>\n",
       "    .dataframe tbody tr th:only-of-type {\n",
       "        vertical-align: middle;\n",
       "    }\n",
       "\n",
       "    .dataframe tbody tr th {\n",
       "        vertical-align: top;\n",
       "    }\n",
       "\n",
       "    .dataframe thead th {\n",
       "        text-align: right;\n",
       "    }\n",
       "</style>\n",
       "<table border=\"1\" class=\"dataframe\">\n",
       "  <thead>\n",
       "    <tr style=\"text-align: right;\">\n",
       "      <th></th>\n",
       "      <th>sum_sq</th>\n",
       "      <th>df</th>\n",
       "      <th>F</th>\n",
       "      <th>PR(&gt;F)</th>\n",
       "    </tr>\n",
       "  </thead>\n",
       "  <tbody>\n",
       "    <tr>\n",
       "      <th>C(UnorderedPortion)</th>\n",
       "      <td>0.013421</td>\n",
       "      <td>4.0</td>\n",
       "      <td>0.48135</td>\n",
       "      <td>0.749472</td>\n",
       "    </tr>\n",
       "    <tr>\n",
       "      <th>Residual</th>\n",
       "      <td>14.986919</td>\n",
       "      <td>2150.0</td>\n",
       "      <td>NaN</td>\n",
       "      <td>NaN</td>\n",
       "    </tr>\n",
       "  </tbody>\n",
       "</table>\n",
       "</div>"
      ],
      "text/plain": [
       "                        sum_sq      df        F    PR(>F)\n",
       "C(UnorderedPortion)   0.013421     4.0  0.48135  0.749472\n",
       "Residual             14.986919  2150.0      NaN       NaN"
      ]
     },
     "metadata": {},
     "output_type": "display_data"
    }
   ],
   "source": [
    "formula = 'Discount ~ C(UnorderedPortion)'\n",
    "\n",
    "lm = ols(formula, df_initial).fit()\n",
    "table = sm.stats.anova_lm(lm, typ=2)\n",
    "\n",
    "display(table)"
   ]
  },
  {
   "cell_type": "markdown",
   "metadata": {},
   "source": [
    "### Conclusions of testing"
   ]
  },
  {
   "cell_type": "markdown",
   "metadata": {},
   "source": [
    "  1. According to multiple AB-testing (Welch-test) there is no significant difference of Discount from Unordered portion of products in stock.\n",
    "  2. But due to small size effects, AB-tests has low level of Power.\n",
    "  3. In order to alternative check, ANOVA-test was applied\n",
    "  4. P-value of F-stat in ANOVA-test is higher than 5%, so we can conclude that no significant difference between Discount level and Unordered Portion of products\n",
    " \n",
    "**Business recommendation - Discount level is not affected by unordered products in stock, so pricing mechanism for discount has other reasons**"
   ]
  },
  {
   "cell_type": "markdown",
   "metadata": {},
   "source": [
    "## Hypothesis 5"
   ]
  },
  {
   "cell_type": "markdown",
   "metadata": {},
   "source": [
    "**Is any correlation between discount level and Category of product?**"
   ]
  },
  {
   "cell_type": "markdown",
   "metadata": {},
   "source": [
    "### Importing data to dataframe"
   ]
  },
  {
   "cell_type": "code",
   "execution_count": 23,
   "metadata": {},
   "outputs": [],
   "source": [
    "sql_all = '''SELECT od.Discount, c.CategoryName as Category FROM OrderDetail od join Product p \n",
    "            ON p.id = od.ProductID join Category c ON p.CategoryID = c.id;'''\n",
    "\n",
    "df_initial = sql_2_df(sql_all)"
   ]
  },
  {
   "cell_type": "markdown",
   "metadata": {},
   "source": [
    "### Visual analysis"
   ]
  },
  {
   "cell_type": "code",
   "execution_count": 24,
   "metadata": {},
   "outputs": [
    {
     "data": {
      "image/png": "[encoded data removed]",
      "text/plain": [
       "<Figure size 792x288 with 1 Axes>"
      ]
     },
     "metadata": {
      "needs_background": "light"
     },
     "output_type": "display_data"
    }
   ],
   "source": [
    "fig, ax = plt.subplots(figsize=(11,4))\n",
    "sns.boxplot(x='Category', y='Discount', data=df_initial, ax=ax)\n",
    "plt.show()"
   ]
  },
  {
   "cell_type": "markdown",
   "metadata": {},
   "source": [
    "### ANOVA testing"
   ]
  },
  {
   "cell_type": "code",
   "execution_count": 25,
   "metadata": {},
   "outputs": [
    {
     "data": {
      "text/html": [
       "<div>\n",
       "<style scoped>\n",
       "    .dataframe tbody tr th:only-of-type {\n",
       "        vertical-align: middle;\n",
       "    }\n",
       "\n",
       "    .dataframe tbody tr th {\n",
       "        vertical-align: top;\n",
       "    }\n",
       "\n",
       "    .dataframe thead th {\n",
       "        text-align: right;\n",
       "    }\n",
       "</style>\n",
       "<table border=\"1\" class=\"dataframe\">\n",
       "  <thead>\n",
       "    <tr style=\"text-align: right;\">\n",
       "      <th></th>\n",
       "      <th>sum_sq</th>\n",
       "      <th>df</th>\n",
       "      <th>F</th>\n",
       "      <th>PR(&gt;F)</th>\n",
       "    </tr>\n",
       "  </thead>\n",
       "  <tbody>\n",
       "    <tr>\n",
       "      <th>C(Category)</th>\n",
       "      <td>0.074918</td>\n",
       "      <td>7.0</td>\n",
       "      <td>1.539545</td>\n",
       "      <td>0.149326</td>\n",
       "    </tr>\n",
       "    <tr>\n",
       "      <th>Residual</th>\n",
       "      <td>14.925422</td>\n",
       "      <td>2147.0</td>\n",
       "      <td>NaN</td>\n",
       "      <td>NaN</td>\n",
       "    </tr>\n",
       "  </tbody>\n",
       "</table>\n",
       "</div>"
      ],
      "text/plain": [
       "                sum_sq      df         F    PR(>F)\n",
       "C(Category)   0.074918     7.0  1.539545  0.149326\n",
       "Residual     14.925422  2147.0       NaN       NaN"
      ]
     },
     "metadata": {},
     "output_type": "display_data"
    }
   ],
   "source": [
    "formula = 'Discount ~ C(Category)'\n",
    "\n",
    "lm = ols(formula, df_initial).fit()\n",
    "table = sm.stats.anova_lm(lm, typ=2)\n",
    "\n",
    "display(table)"
   ]
  },
  {
   "cell_type": "markdown",
   "metadata": {},
   "source": [
    "### Conclusions of testing"
   ]
  },
  {
   "cell_type": "markdown",
   "metadata": {},
   "source": [
    "  1. P-value of F-stat in ANOVA-test is higher than 5%, so we can conclude that no significant difference between Discount level and Category of product\n",
    " \n",
    "**Business recommendation - Discount level is not affected by type of product**"
   ]
  },
  {
   "cell_type": "markdown",
   "metadata": {},
   "source": [
    "## Finding predictors for Discount level"
   ]
  },
  {
   "cell_type": "code",
   "execution_count": 26,
   "metadata": {},
   "outputs": [
    {
     "data": {
      "text/html": [
       "<div>\n",
       "<style scoped>\n",
       "    .dataframe tbody tr th:only-of-type {\n",
       "        vertical-align: middle;\n",
       "    }\n",
       "\n",
       "    .dataframe tbody tr th {\n",
       "        vertical-align: top;\n",
       "    }\n",
       "\n",
       "    .dataframe thead th {\n",
       "        text-align: right;\n",
       "    }\n",
       "</style>\n",
       "<table border=\"1\" class=\"dataframe\">\n",
       "  <thead>\n",
       "    <tr style=\"text-align: right;\">\n",
       "      <th></th>\n",
       "      <th>sum_sq</th>\n",
       "      <th>df</th>\n",
       "      <th>F</th>\n",
       "      <th>PR(&gt;F)</th>\n",
       "    </tr>\n",
       "  </thead>\n",
       "  <tbody>\n",
       "    <tr>\n",
       "      <th>C(ProductName)</th>\n",
       "      <td>0.604765</td>\n",
       "      <td>76.0</td>\n",
       "      <td>1.148655</td>\n",
       "      <td>0.181957</td>\n",
       "    </tr>\n",
       "    <tr>\n",
       "      <th>Residual</th>\n",
       "      <td>14.395575</td>\n",
       "      <td>2078.0</td>\n",
       "      <td>NaN</td>\n",
       "      <td>NaN</td>\n",
       "    </tr>\n",
       "  </tbody>\n",
       "</table>\n",
       "</div>"
      ],
      "text/plain": [
       "                   sum_sq      df         F    PR(>F)\n",
       "C(ProductName)   0.604765    76.0  1.148655  0.181957\n",
       "Residual        14.395575  2078.0       NaN       NaN"
      ]
     },
     "metadata": {},
     "output_type": "display_data"
    },
    {
     "data": {
      "text/html": [
       "<div>\n",
       "<style scoped>\n",
       "    .dataframe tbody tr th:only-of-type {\n",
       "        vertical-align: middle;\n",
       "    }\n",
       "\n",
       "    .dataframe tbody tr th {\n",
       "        vertical-align: top;\n",
       "    }\n",
       "\n",
       "    .dataframe thead th {\n",
       "        text-align: right;\n",
       "    }\n",
       "</style>\n",
       "<table border=\"1\" class=\"dataframe\">\n",
       "  <thead>\n",
       "    <tr style=\"text-align: right;\">\n",
       "      <th></th>\n",
       "      <th>sum_sq</th>\n",
       "      <th>df</th>\n",
       "      <th>F</th>\n",
       "      <th>PR(&gt;F)</th>\n",
       "    </tr>\n",
       "  </thead>\n",
       "  <tbody>\n",
       "    <tr>\n",
       "      <th>C(SupplierId)</th>\n",
       "      <td>0.280541</td>\n",
       "      <td>28.0</td>\n",
       "      <td>1.447104</td>\n",
       "      <td>0.061114</td>\n",
       "    </tr>\n",
       "    <tr>\n",
       "      <th>Residual</th>\n",
       "      <td>14.719799</td>\n",
       "      <td>2126.0</td>\n",
       "      <td>NaN</td>\n",
       "      <td>NaN</td>\n",
       "    </tr>\n",
       "  </tbody>\n",
       "</table>\n",
       "</div>"
      ],
      "text/plain": [
       "                  sum_sq      df         F    PR(>F)\n",
       "C(SupplierId)   0.280541    28.0  1.447104  0.061114\n",
       "Residual       14.719799  2126.0       NaN       NaN"
      ]
     },
     "metadata": {},
     "output_type": "display_data"
    },
    {
     "data": {
      "text/html": [
       "<div>\n",
       "<style scoped>\n",
       "    .dataframe tbody tr th:only-of-type {\n",
       "        vertical-align: middle;\n",
       "    }\n",
       "\n",
       "    .dataframe tbody tr th {\n",
       "        vertical-align: top;\n",
       "    }\n",
       "\n",
       "    .dataframe thead th {\n",
       "        text-align: right;\n",
       "    }\n",
       "</style>\n",
       "<table border=\"1\" class=\"dataframe\">\n",
       "  <thead>\n",
       "    <tr style=\"text-align: right;\">\n",
       "      <th></th>\n",
       "      <th>sum_sq</th>\n",
       "      <th>df</th>\n",
       "      <th>F</th>\n",
       "      <th>PR(&gt;F)</th>\n",
       "    </tr>\n",
       "  </thead>\n",
       "  <tbody>\n",
       "    <tr>\n",
       "      <th>C(QuantityPerUnit)</th>\n",
       "      <td>0.482447</td>\n",
       "      <td>69.0</td>\n",
       "      <td>1.00416</td>\n",
       "      <td>0.468911</td>\n",
       "    </tr>\n",
       "    <tr>\n",
       "      <th>Residual</th>\n",
       "      <td>14.517893</td>\n",
       "      <td>2085.0</td>\n",
       "      <td>NaN</td>\n",
       "      <td>NaN</td>\n",
       "    </tr>\n",
       "  </tbody>\n",
       "</table>\n",
       "</div>"
      ],
      "text/plain": [
       "                       sum_sq      df        F    PR(>F)\n",
       "C(QuantityPerUnit)   0.482447    69.0  1.00416  0.468911\n",
       "Residual            14.517893  2085.0      NaN       NaN"
      ]
     },
     "metadata": {},
     "output_type": "display_data"
    },
    {
     "data": {
      "text/html": [
       "<div>\n",
       "<style scoped>\n",
       "    .dataframe tbody tr th:only-of-type {\n",
       "        vertical-align: middle;\n",
       "    }\n",
       "\n",
       "    .dataframe tbody tr th {\n",
       "        vertical-align: top;\n",
       "    }\n",
       "\n",
       "    .dataframe thead th {\n",
       "        text-align: right;\n",
       "    }\n",
       "</style>\n",
       "<table border=\"1\" class=\"dataframe\">\n",
       "  <thead>\n",
       "    <tr style=\"text-align: right;\">\n",
       "      <th></th>\n",
       "      <th>sum_sq</th>\n",
       "      <th>df</th>\n",
       "      <th>F</th>\n",
       "      <th>PR(&gt;F)</th>\n",
       "    </tr>\n",
       "  </thead>\n",
       "  <tbody>\n",
       "    <tr>\n",
       "      <th>C(UnitsInStock)</th>\n",
       "      <td>0.314134</td>\n",
       "      <td>50.0</td>\n",
       "      <td>0.900081</td>\n",
       "      <td>0.672421</td>\n",
       "    </tr>\n",
       "    <tr>\n",
       "      <th>Residual</th>\n",
       "      <td>14.686206</td>\n",
       "      <td>2104.0</td>\n",
       "      <td>NaN</td>\n",
       "      <td>NaN</td>\n",
       "    </tr>\n",
       "  </tbody>\n",
       "</table>\n",
       "</div>"
      ],
      "text/plain": [
       "                    sum_sq      df         F    PR(>F)\n",
       "C(UnitsInStock)   0.314134    50.0  0.900081  0.672421\n",
       "Residual         14.686206  2104.0       NaN       NaN"
      ]
     },
     "metadata": {},
     "output_type": "display_data"
    },
    {
     "data": {
      "text/html": [
       "<div>\n",
       "<style scoped>\n",
       "    .dataframe tbody tr th:only-of-type {\n",
       "        vertical-align: middle;\n",
       "    }\n",
       "\n",
       "    .dataframe tbody tr th {\n",
       "        vertical-align: top;\n",
       "    }\n",
       "\n",
       "    .dataframe thead th {\n",
       "        text-align: right;\n",
       "    }\n",
       "</style>\n",
       "<table border=\"1\" class=\"dataframe\">\n",
       "  <thead>\n",
       "    <tr style=\"text-align: right;\">\n",
       "      <th></th>\n",
       "      <th>sum_sq</th>\n",
       "      <th>df</th>\n",
       "      <th>F</th>\n",
       "      <th>PR(&gt;F)</th>\n",
       "    </tr>\n",
       "  </thead>\n",
       "  <tbody>\n",
       "    <tr>\n",
       "      <th>C(UnitsOnOrder)</th>\n",
       "      <td>0.085644</td>\n",
       "      <td>9.0</td>\n",
       "      <td>1.368577</td>\n",
       "      <td>0.196815</td>\n",
       "    </tr>\n",
       "    <tr>\n",
       "      <th>Residual</th>\n",
       "      <td>14.914695</td>\n",
       "      <td>2145.0</td>\n",
       "      <td>NaN</td>\n",
       "      <td>NaN</td>\n",
       "    </tr>\n",
       "  </tbody>\n",
       "</table>\n",
       "</div>"
      ],
      "text/plain": [
       "                    sum_sq      df         F    PR(>F)\n",
       "C(UnitsOnOrder)   0.085644     9.0  1.368577  0.196815\n",
       "Residual         14.914695  2145.0       NaN       NaN"
      ]
     },
     "metadata": {},
     "output_type": "display_data"
    },
    {
     "data": {
      "text/html": [
       "<div>\n",
       "<style scoped>\n",
       "    .dataframe tbody tr th:only-of-type {\n",
       "        vertical-align: middle;\n",
       "    }\n",
       "\n",
       "    .dataframe tbody tr th {\n",
       "        vertical-align: top;\n",
       "    }\n",
       "\n",
       "    .dataframe thead th {\n",
       "        text-align: right;\n",
       "    }\n",
       "</style>\n",
       "<table border=\"1\" class=\"dataframe\">\n",
       "  <thead>\n",
       "    <tr style=\"text-align: right;\">\n",
       "      <th></th>\n",
       "      <th>sum_sq</th>\n",
       "      <th>df</th>\n",
       "      <th>F</th>\n",
       "      <th>PR(&gt;F)</th>\n",
       "    </tr>\n",
       "  </thead>\n",
       "  <tbody>\n",
       "    <tr>\n",
       "      <th>C(ReorderLevel)</th>\n",
       "      <td>0.013716</td>\n",
       "      <td>6.0</td>\n",
       "      <td>0.327641</td>\n",
       "      <td>0.922729</td>\n",
       "    </tr>\n",
       "    <tr>\n",
       "      <th>Residual</th>\n",
       "      <td>14.986624</td>\n",
       "      <td>2148.0</td>\n",
       "      <td>NaN</td>\n",
       "      <td>NaN</td>\n",
       "    </tr>\n",
       "  </tbody>\n",
       "</table>\n",
       "</div>"
      ],
      "text/plain": [
       "                    sum_sq      df         F    PR(>F)\n",
       "C(ReorderLevel)   0.013716     6.0  0.327641  0.922729\n",
       "Residual         14.986624  2148.0       NaN       NaN"
      ]
     },
     "metadata": {},
     "output_type": "display_data"
    }
   ],
   "source": [
    "predictors = ['ProductName','SupplierId','QuantityPerUnit','UnitsInStock','UnitsOnOrder','ReorderLevel']\n",
    "\n",
    "for predictor in predictors:\n",
    "    sql_all = f'''SELECT od.Discount, p.{predictor} FROM OrderDetail od join Product p ON p.id = od.ProductID;'''\n",
    "    df_initial = sql_2_df(sql_all)\n",
    "    formula = f'Discount ~ C({predictor})'\n",
    "    lm = ols(formula, df_initial).fit()\n",
    "    table = sm.stats.anova_lm(lm, typ=2)\n",
    "    display(table)"
   ]
  },
  {
   "cell_type": "markdown",
   "metadata": {},
   "source": [
    "### Conclusions of modelling"
   ]
  },
  {
   "cell_type": "markdown",
   "metadata": {},
   "source": [
    "  1. As shown above, only supplier has significant effect (with p-value 6.1%) on discount level\n",
    "  \n",
    "**This issue will be used in next section - classification modelling**"
   ]
  },
  {
   "cell_type": "markdown",
   "metadata": {},
   "source": [
    "## Discount classifier modelling"
   ]
  },
  {
   "cell_type": "markdown",
   "metadata": {},
   "source": [
    "### Description to applied methodology"
   ]
  },
  {
   "cell_type": "markdown",
   "metadata": {},
   "source": [
    "**Modelling parameters** \n",
    "- Target variable is:\n",
    "    - case A. Discount dummy variable (no Discount and Discount)\n",
    "    - case B. Binned (to 6 classes) discount levels\n",
    "- Features: UnitPrice (pre-discounted, from Product table) and Quantity, which were defined based on previous stat.tests results\n",
    "- accuracy score will be used as main performance measure"
   ]
  },
  {
   "cell_type": "markdown",
   "metadata": {},
   "source": [
    "### Importing data to dataframe"
   ]
  },
  {
   "cell_type": "code",
   "execution_count": 27,
   "metadata": {},
   "outputs": [
    {
     "data": {
      "text/html": [
       "<div>\n",
       "<style scoped>\n",
       "    .dataframe tbody tr th:only-of-type {\n",
       "        vertical-align: middle;\n",
       "    }\n",
       "\n",
       "    .dataframe tbody tr th {\n",
       "        vertical-align: top;\n",
       "    }\n",
       "\n",
       "    .dataframe thead th {\n",
       "        text-align: right;\n",
       "    }\n",
       "</style>\n",
       "<table border=\"1\" class=\"dataframe\">\n",
       "  <thead>\n",
       "    <tr style=\"text-align: right;\">\n",
       "      <th></th>\n",
       "      <th>Discount</th>\n",
       "      <th>UnitPrice</th>\n",
       "      <th>Quantity</th>\n",
       "      <th>Supplier</th>\n",
       "    </tr>\n",
       "  </thead>\n",
       "  <tbody>\n",
       "    <tr>\n",
       "      <th>0</th>\n",
       "      <td>0.0</td>\n",
       "      <td>21.00</td>\n",
       "      <td>12</td>\n",
       "      <td>5</td>\n",
       "    </tr>\n",
       "    <tr>\n",
       "      <th>1</th>\n",
       "      <td>0.0</td>\n",
       "      <td>14.00</td>\n",
       "      <td>10</td>\n",
       "      <td>20</td>\n",
       "    </tr>\n",
       "    <tr>\n",
       "      <th>2</th>\n",
       "      <td>0.0</td>\n",
       "      <td>34.80</td>\n",
       "      <td>5</td>\n",
       "      <td>14</td>\n",
       "    </tr>\n",
       "    <tr>\n",
       "      <th>3</th>\n",
       "      <td>0.0</td>\n",
       "      <td>23.25</td>\n",
       "      <td>9</td>\n",
       "      <td>6</td>\n",
       "    </tr>\n",
       "    <tr>\n",
       "      <th>4</th>\n",
       "      <td>0.0</td>\n",
       "      <td>53.00</td>\n",
       "      <td>40</td>\n",
       "      <td>24</td>\n",
       "    </tr>\n",
       "  </tbody>\n",
       "</table>\n",
       "</div>"
      ],
      "text/plain": [
       "   Discount  UnitPrice  Quantity  Supplier\n",
       "0       0.0      21.00        12         5\n",
       "1       0.0      14.00        10        20\n",
       "2       0.0      34.80         5        14\n",
       "3       0.0      23.25         9         6\n",
       "4       0.0      53.00        40        24"
      ]
     },
     "execution_count": 27,
     "metadata": {},
     "output_type": "execute_result"
    }
   ],
   "source": [
    "sql_all = '''SELECT od.Discount, p.UnitPrice, od.Quantity, p.SupplierId as Supplier FROM OrderDetail od \n",
    "            JOIN Product p ON p.id = od.ProductID;'''\n",
    "\n",
    "df_initial = sql_2_df(sql_all)\n",
    "\n",
    "df_initial.head()"
   ]
  },
  {
   "cell_type": "markdown",
   "metadata": {},
   "source": [
    "### Creating category classes"
   ]
  },
  {
   "cell_type": "code",
   "execution_count": 28,
   "metadata": {},
   "outputs": [],
   "source": [
    "temp_list = []\n",
    "\n",
    "for idx in df_initial.index:\n",
    "    if df_initial['Discount'][idx] == 0:\n",
    "        temp_list.append(0)\n",
    "    else:\n",
    "        temp_list.append(1)\n",
    "\n",
    "df_initial['Discount_dummies'] = temp_list\n",
    "df_initial['Discount_dummies'] = df_initial['Discount_dummies'].astype('category')"
   ]
  },
  {
   "cell_type": "code",
   "execution_count": 29,
   "metadata": {},
   "outputs": [
    {
     "data": {
      "text/html": [
       "<div>\n",
       "<style scoped>\n",
       "    .dataframe tbody tr th:only-of-type {\n",
       "        vertical-align: middle;\n",
       "    }\n",
       "\n",
       "    .dataframe tbody tr th {\n",
       "        vertical-align: top;\n",
       "    }\n",
       "\n",
       "    .dataframe thead th {\n",
       "        text-align: right;\n",
       "    }\n",
       "</style>\n",
       "<table border=\"1\" class=\"dataframe\">\n",
       "  <thead>\n",
       "    <tr style=\"text-align: right;\">\n",
       "      <th></th>\n",
       "      <th>Discount</th>\n",
       "      <th>UnitPrice</th>\n",
       "      <th>Quantity</th>\n",
       "      <th>Supplier</th>\n",
       "      <th>Discount_dummies</th>\n",
       "      <th>Discount_rounded_levels</th>\n",
       "    </tr>\n",
       "  </thead>\n",
       "  <tbody>\n",
       "    <tr>\n",
       "      <th>0</th>\n",
       "      <td>0.0</td>\n",
       "      <td>21.00</td>\n",
       "      <td>12</td>\n",
       "      <td>5</td>\n",
       "      <td>0</td>\n",
       "      <td>0</td>\n",
       "    </tr>\n",
       "    <tr>\n",
       "      <th>1</th>\n",
       "      <td>0.0</td>\n",
       "      <td>14.00</td>\n",
       "      <td>10</td>\n",
       "      <td>20</td>\n",
       "      <td>0</td>\n",
       "      <td>0</td>\n",
       "    </tr>\n",
       "    <tr>\n",
       "      <th>2</th>\n",
       "      <td>0.0</td>\n",
       "      <td>34.80</td>\n",
       "      <td>5</td>\n",
       "      <td>14</td>\n",
       "      <td>0</td>\n",
       "      <td>0</td>\n",
       "    </tr>\n",
       "    <tr>\n",
       "      <th>3</th>\n",
       "      <td>0.0</td>\n",
       "      <td>23.25</td>\n",
       "      <td>9</td>\n",
       "      <td>6</td>\n",
       "      <td>0</td>\n",
       "      <td>0</td>\n",
       "    </tr>\n",
       "    <tr>\n",
       "      <th>4</th>\n",
       "      <td>0.0</td>\n",
       "      <td>53.00</td>\n",
       "      <td>40</td>\n",
       "      <td>24</td>\n",
       "      <td>0</td>\n",
       "      <td>0</td>\n",
       "    </tr>\n",
       "  </tbody>\n",
       "</table>\n",
       "</div>"
      ],
      "text/plain": [
       "   Discount  UnitPrice  Quantity  Supplier Discount_dummies  \\\n",
       "0       0.0      21.00        12         5                0   \n",
       "1       0.0      14.00        10        20                0   \n",
       "2       0.0      34.80         5        14                0   \n",
       "3       0.0      23.25         9         6                0   \n",
       "4       0.0      53.00        40        24                0   \n",
       "\n",
       "  Discount_rounded_levels  \n",
       "0                       0  \n",
       "1                       0  \n",
       "2                       0  \n",
       "3                       0  \n",
       "4                       0  "
      ]
     },
     "execution_count": 29,
     "metadata": {},
     "output_type": "execute_result"
    }
   ],
   "source": [
    "discount_levels_rounded = [0,0.05,0.1,0.15,0.20,0.25]\n",
    "discount_levels_rounded_names = [0,1,2,3,4,5]\n",
    "\n",
    "\n",
    "def var_rebin(x,level_list, level_list_names):\n",
    "    \"\"\"\n",
    "    return name (string) as element of level_list_names,\n",
    "    depending of how x fit to level_list,\n",
    "    x - initial value for fit,\n",
    "    level_list - list with given ranges for binning,\n",
    "    level_list_names - list with names for each range\n",
    "    len(level_list) must be the same as len(level_list_names)\n",
    "    \"\"\"\n",
    "    var = ''\n",
    "    prev_level = 0\n",
    "    if x == level_list[0]:\n",
    "        var = discount_levels_rounded_names[0]\n",
    "        return var\n",
    "    if x > level_list[-1]:\n",
    "        var = discount_levels_rounded_names[-1][2:]+'+'\n",
    "        return var\n",
    "    \n",
    "    for level, level_name in zip(level_list, level_list_names):\n",
    "        if prev_level < x <= level:\n",
    "                var = level_name\n",
    "        prev_level = level\n",
    "    return var\n",
    "\n",
    "temp_list = []\n",
    "\n",
    "for idx in df_initial.index:\n",
    "    var = var_rebin(df_initial['Discount'][idx], discount_levels_rounded, discount_levels_rounded_names)\n",
    "    temp_list.append(var)\n",
    "\n",
    "df_initial['Discount_rounded_levels'] = temp_list\n",
    "df_initial['Discount_rounded_levels'] = df_initial['Discount_rounded_levels'].astype('category')\n",
    "\n",
    "df_initial.head()"
   ]
  },
  {
   "cell_type": "markdown",
   "metadata": {},
   "source": [
    "### User's functions"
   ]
  },
  {
   "cell_type": "code",
   "execution_count": 30,
   "metadata": {},
   "outputs": [],
   "source": [
    "def p_x_given_class(obs_row, feature, class_):\n",
    "    \"\"\"\n",
    "    return P(X|Y) for given observation, where:\n",
    "    feature = X, class_ = Y,\n",
    "    this is internal function for predict_class function\n",
    "    \"\"\"\n",
    "    mu = aggs[feature]['mean'][class_]\n",
    "    std = aggs[feature]['std'][class_]\n",
    "    obs = obs_row[feature]\n",
    "    p_x_given_y = stats.norm.pdf(obs, loc=mu, scale=std)\n",
    "    return p_x_given_y\n",
    "\n",
    "\n",
    "def predict_class(obs_row):\n",
    "    \"\"\"\n",
    "    return classification forecast of target class, by using NBC for given obs_row\n",
    "    \"\"\"\n",
    "    c_probs = []\n",
    "    for c in range(class_power):\n",
    "        p = len(y_train[y_train==c])/len(y_train)\n",
    "        for feature in X_train.columns:\n",
    "            p = p * p_x_given_class(obs_row, feature=feature, class_=c)\n",
    "        c_probs.append(p)\n",
    "    return np.argmax(c_probs)"
   ]
  },
  {
   "cell_type": "markdown",
   "metadata": {},
   "source": [
    "### Dataset preparation and model running. Case A"
   ]
  },
  {
   "cell_type": "code",
   "execution_count": 31,
   "metadata": {},
   "outputs": [],
   "source": [
    "X = pd.DataFrame(df_initial, columns=['UnitPrice', 'Quantity','Supplier'])\n",
    "\n",
    "target = 'Discount_dummies'\n",
    "y = df_initial[target]\n",
    "X_train, X_test, y_train, y_test = train_test_split(X,y,test_size = 0.25, random_state=37)\n",
    "class_power = len(set(y))\n",
    "\n",
    "\n",
    "aggs = df_initial.groupby(target).agg(['mean','std'])\n",
    "aggs = aggs.fillna(0)"
   ]
  },
  {
   "cell_type": "code",
   "execution_count": 32,
   "metadata": {},
   "outputs": [
    {
     "name": "stdout",
     "output_type": "stream",
     "text": [
      "Training Accuracy: 0.6169554455445545\tTesting Accuracy: 0.6103896103896104\n"
     ]
    }
   ],
   "source": [
    "y_hat_train = [predict_class(X_train.iloc[idx]) for idx in range(len(X_train))]\n",
    "y_hat_test = [predict_class(X_test.iloc[idx]) for idx in range(len(X_test))]\n",
    "\n",
    "residuals_train = y_hat_train == y_train\n",
    "acc_train = residuals_train.sum()/len(residuals_train)\n",
    "residuals_test = y_hat_test == y_test\n",
    "acc_test = residuals_test.sum()/len(residuals_test)\n",
    "print('Training Accuracy: {}\\tTesting Accuracy: {}'.format(acc_train, acc_test))"
   ]
  },
  {
   "cell_type": "markdown",
   "metadata": {},
   "source": [
    "### Dataset preparation and model running. Case B"
   ]
  },
  {
   "cell_type": "code",
   "execution_count": 33,
   "metadata": {},
   "outputs": [],
   "source": [
    "X = pd.DataFrame(df_initial, columns=['UnitPrice', 'Quantity', 'Supplier'])\n",
    "\n",
    "target = 'Discount_rounded_levels'\n",
    "y = df_initial[target]\n",
    "X_train, X_test, y_train, y_test = train_test_split(X,y,test_size = 0.25, random_state=37)\n",
    "class_power = len(set(y))\n",
    "\n",
    "\n",
    "aggs = df_initial.groupby(target).agg(['mean','std'])\n",
    "aggs = aggs.fillna(0)"
   ]
  },
  {
   "cell_type": "code",
   "execution_count": 34,
   "metadata": {},
   "outputs": [
    {
     "name": "stdout",
     "output_type": "stream",
     "text": [
      "Training Accuracy: 0.5977722772277227\tTesting Accuracy: 0.5955473098330241\n"
     ]
    }
   ],
   "source": [
    "y_hat_train = [predict_class(X_train.iloc[idx]) for idx in range(len(X_train))]\n",
    "y_hat_test = [predict_class(X_test.iloc[idx]) for idx in range(len(X_test))]\n",
    "\n",
    "residuals_train = y_hat_train == y_train\n",
    "acc_train = residuals_train.sum()/len(residuals_train)\n",
    "residuals_test = y_hat_test == y_test\n",
    "acc_test = residuals_test.sum()/len(residuals_test)\n",
    "print('Training Accuracy: {}\\tTesting Accuracy: {}'.format(acc_train, acc_test))"
   ]
  },
  {
   "cell_type": "markdown",
   "metadata": {},
   "source": [
    "### Conclusions of modelling"
   ]
  },
  {
   "cell_type": "markdown",
   "metadata": {},
   "source": [
    "  1. According to previous statistical tests, discounts on products could be effected by prices and quantities\n",
    "  2. Moreover, the fact of discount is more important than level of discount\n",
    "  3. Hence, dummy-type target variable of discount was used for NBC (Naive Bayes Classifier) model\n",
    "  4. NBC gave 61% accuracy for dummy-type target (case A) and 60% accuracy for binned-target (case B).\n",
    "  5. Quite low levels of accuracy can say that some other factors can influence on discount levels\n",
    " \n",
    "**Despite of the fact, that Quantities, Prices and Suppliers are statistically significant for Discount level, we need more advanced analysis for prediction modelling, as it shown by using Naive Bayes Classifier accuracy score**"
   ]
  },
  {
   "cell_type": "markdown",
   "metadata": {},
   "source": [
    "## General recommendations"
   ]
  },
  {
   "cell_type": "markdown",
   "metadata": {},
   "source": [
    "1. Use discounts on product in small range (1%-10%) for increasing volumes of product sales\n",
    "\n",
    "2. Use discounts on product in smaller range (1%-5%) for increasing gross revenues of product sales\n",
    "\n",
    "3. Shipping services for all shippers are similar, so check and compare shippers’ tariffs on inequality\n",
    "\n",
    "4. Discount rate for a product could be predicted, but with low level of accuracy"
   ]
  }
 ],
 "metadata": {
  "kernelspec": {
   "display_name": "learn-env",
   "language": "python",
   "name": "learn-env"
  },
  "language_info": {
   "codemirror_mode": {
    "name": "ipython",
    "version": 3
   },
   "file_extension": ".py",
   "mimetype": "text/x-python",
   "name": "python",
   "nbconvert_exporter": "python",
   "pygments_lexer": "ipython3",
   "version": "3.7.1"
  },
  "toc": {
   "base_numbering": 1,
   "nav_menu": {},
   "number_sections": true,
   "sideBar": true,
   "skip_h1_title": true,
   "title_cell": "Table of Contents",
   "title_sidebar": "Contents",
   "toc_cell": true,
   "toc_position": {
    "height": "calc(100% - 180px)",
    "left": "10px",
    "top": "150px",
    "width": "348.614px"
   },
   "toc_section_display": true,
   "toc_window_display": false
  },
  "varInspector": {
   "cols": {
    "lenName": 16,
    "lenType": 16,
    "lenVar": 40
   },
   "kernels_config": {
    "python": {
     "delete_cmd_postfix": "",
     "delete_cmd_prefix": "del ",
     "library": "var_list.py",
     "varRefreshCmd": "print(var_dic_list())"
    },
    "r": {
     "delete_cmd_postfix": ") ",
     "delete_cmd_prefix": "rm(",
     "library": "var_list.r",
     "varRefreshCmd": "cat(var_dic_list()) "
    }
   },
   "types_to_exclude": [
    "module",
    "function",
    "builtin_function_or_method",
    "instance",
    "_Feature"
   ],
   "window_display": false
  }
 },
 "nbformat": 4,
 "nbformat_minor": 2
}
